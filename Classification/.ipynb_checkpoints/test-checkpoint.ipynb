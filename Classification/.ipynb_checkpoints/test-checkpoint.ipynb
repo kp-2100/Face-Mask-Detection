{
 "cells": [
  {
   "cell_type": "code",
   "execution_count": 11,
   "metadata": {},
   "outputs": [],
   "source": [
    "from keras.models import load_model\n",
    "\n",
    "import cv2\n",
    "import numpy as np\n",
    "import tkinter\n",
    "from tkinter import messagebox\n",
    "import smtplib"
   ]
  },
  {
   "cell_type": "code",
   "execution_count": 12,
   "metadata": {},
   "outputs": [
    {
     "name": "stdout",
     "output_type": "stream",
     "text": [
      "model loaded\n"
     ]
    }
   ],
   "source": [
    "root=tkinter.Tk()\n",
    "root.withdraw()\n",
    "\n",
    "\n",
    "model=load_model('facedetection.h5')\n",
    "print('model loaded')"
   ]
  },
  {
   "cell_type": "code",
   "execution_count": 14,
   "metadata": {},
   "outputs": [],
   "source": [
    "#classifier to detect face\n",
    "\n",
    "face_det_classifier=cv2.CascadeClassifier('haarcascade_frontalface_default.xml')\n",
    "\n",
    "vid_source=cv2.VideoCapture(0)\n",
    "\n",
    "text_dict={0:'Mask On',1:'Mask Off'}\n",
    "rect_color_dict={0:(0,255,0),1:(0,0,255)}\n",
    "\n",
    "\n",
    "\n",
    "while(True):\n",
    "    \n",
    "    \n",
    "    rect,img=vid_source.read()\n",
    "    grayscale_img=cv2.cvtColor(img,cv2.COLOR_BGR2GRAY)\n",
    "    faces=face_det_classifier.detectMultiScale(grayscale_img,1.3,5)\n",
    "    \n",
    "    \n",
    "    \n",
    "    for(x,y,w,h) in faces:\n",
    "        face_img=grayscale_img[y:y+w,x:x+w]\n",
    "        resized_img=cv2.resize(face_img,(112,112))\n",
    "        normalized_img=resized_img/255.0\n",
    "        reshaped_img=np.reshape(normalized_img,(1,112,112,1))\n",
    "        result=model.predict(reshaped_img)\n",
    "        \n",
    "        \n",
    "        label=np.argmax(result,axis=1)[0]\n",
    "        \n",
    "        \n",
    "#         cv2.rectangle(img,(x,y),(x+w,y+h),rect_color_dict[label],2)\n",
    "#         cv2.rectangle(img,(x,y-40),(x+w,y+h),rect_color_dict[label],-1)\n",
    "        \n",
    "        \n",
    "        \n",
    "#         cv2.putText(img,text_dict[label],(x,y-10),cv2.FONT_HERSHEY_SIMPLEX,0.8,(0,0,0),2)\n",
    "        \n",
    "        \n",
    "        \n",
    "        if (label==1):\n",
    "#             messagebox.showwarning(\"WARNINGGGGGGGGG\")\n",
    "#               cv2.putText(img,\"NO MASk\")\n",
    "                cv2.rectangle(img,(x,y),(x+w,y+h),rect_color_dict[label],2)\n",
    "                cv2.rectangle(img,(x,y-40),(x+w,y),rect_color_dict[label],-1)\n",
    "                cv2.putText(img,text_dict[label],(x,y-10),cv2.FONT_HERSHEY_SIMPLEX,0.8,(0,0,0),2)\n",
    "        \n",
    "        else:\n",
    "            \n",
    "#             pass\n",
    "#             break\n",
    "                cv2.rectangle(img,(x,y),(x+w,y+h),rect_color_dict[label],2)\n",
    "                cv2.rectangle(img,(x,y-40),(x+w,y),rect_color_dict[label],-1)\n",
    "                cv2.putText(img,text_dict[label],(x,y-10),cv2.FONT_HERSHEY_SIMPLEX,0.8,(0,0,0),2)\n",
    "            \n",
    "    cv2.imshow('LIVE VIDEO FEED',img)\n",
    "    if cv2.waitKey(1) & 0xFF==ord('q'):\n",
    "        break\n",
    "   \n",
    "        \n",
    "cv2.destroyAllWindows()\n",
    "vid_source.release()\n",
    "        \n",
    "        \n",
    "        \n",
    "        \n",
    "        \n",
    "        \n",
    "        \n",
    "        \n",
    "        \n",
    "        \n",
    "        \n",
    "        \n",
    "        \n",
    "        \n",
    "        \n",
    "        "
   ]
  },
  {
   "cell_type": "code",
   "execution_count": null,
   "metadata": {},
   "outputs": [],
   "source": []
  }
 ],
 "metadata": {
  "kernelspec": {
   "display_name": "Python 3",
   "language": "python",
   "name": "python3"
  },
  "language_info": {
   "codemirror_mode": {
    "name": "ipython",
    "version": 3
   },
   "file_extension": ".py",
   "mimetype": "text/x-python",
   "name": "python",
   "nbconvert_exporter": "python",
   "pygments_lexer": "ipython3",
   "version": "3.8.3"
  }
 },
 "nbformat": 4,
 "nbformat_minor": 4
}
